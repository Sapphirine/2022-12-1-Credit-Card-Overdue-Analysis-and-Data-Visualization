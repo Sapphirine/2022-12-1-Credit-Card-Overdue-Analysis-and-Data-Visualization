{
 "cells": [
  {
   "cell_type": "code",
   "execution_count": null,
   "id": "98f95126",
   "metadata": {},
   "outputs": [],
   "source": [
    "import numpy as np\n",
    "import tensorflow as tf\n",
    "\n",
    "# reload model\n",
    "model_status = tf.keras.models.load_model('model_status')\n",
    "# \"model_status\" is a folder, and it should be the same place as the app.py\n",
    "model_status.summary() # Check architecture, can be omitted when deployed\n",
    "\n",
    "# reload the second model\n",
    "model_months = tf.keras.models.load_model('model_months')\n",
    "# \"model_months\" is a folder, and it should be the same place as the app.py\n",
    "model_months.summary() # Check architecture, can be omitted when deployed"
   ]
  },
  {
   "cell_type": "code",
   "execution_count": null,
   "id": "21b305d1",
   "metadata": {},
   "outputs": [],
   "source": [
    "def onehot(y, K):\n",
    "    \"\"\"\n",
    "    One-hot encoding function.\n",
    "    Inputs\n",
    "    - y: (uint8) a numpy array of shape (N, 1) containing labels; y[i] = k means \n",
    "        that X[i] has label k, where 0 <= k < K.\n",
    "    - K: total number of classes\n",
    "    Returns a numpy array\n",
    "    - y_onehot: (float) the encoded labels of shape (N, K)\n",
    "    \"\"\"\n",
    "    N = y.shape[0] # get input size\n",
    "    y_onehot = np.zeros((N, K)) # initialize onehot array\n",
    "    for i in range(N):\n",
    "        y_onehot[i, y[i].astype(int)] = 1 # put a \"1\" in its place (y[i]) as label\n",
    "    return y_onehot"
   ]
  },
  {
   "cell_type": "markdown",
   "id": "cd622f2b",
   "metadata": {},
   "source": [
    "### Input shape for classifier\n",
    "\n",
    "These 12 features can be used directly.\n",
    "\n",
    "    CODE_GENDER                1.0\n",
    "    FLAG_OWN_CAR               1.0\n",
    "    FLAG_OWN_REALTY             1.0\n",
    "    CNT_CHILDREN               0.0\n",
    "    AMT_INCOME_TOTAL            427500.0\n",
    "    DAYS_BIRTH                -12005.0\n",
    "    DAYS_EMPLOYED              -4542.0\n",
    "    FLAG_MOBIL                1.0\n",
    "    FLAG_WORK_PHONE             1.0\n",
    "    FLAG_PHONE                0.0\n",
    "    FLAG_EMAIL                0.0\n",
    "    CNT_FAM_MEMBERS             2.0\n",
    "These 5 features need one hot encoding.\n",
    "\n",
    "    INCOME_TYPE(OH).0           0.0\n",
    "    INCOME_TYPE(OH).1           0.0\n",
    "    INCOME_TYPE(OH).2           0.0\n",
    "    INCOME_TYPE(OH).3           0.0\n",
    "    INCOME_TYPE(OH).4           1.0\n",
    "        HOUSING_TYPE(OH).0            0.0\n",
    "        HOUSING_TYPE(OH).1            0.0\n",
    "        HOUSING_TYPE(OH).2            0.0\n",
    "        HOUSING_TYPE(OH).3            0.0\n",
    "        HOUSING_TYPE(OH).4            1.0\n",
    "        HOUSING_TYPE(OH).5            0.0\n",
    "            EDUCATION_TYPE(OH).0          0.0\n",
    "            EDUCATION_TYPE(OH).1          1.0\n",
    "            EDUCATION_TYPE(OH).2          0.0\n",
    "            EDUCATION_TYPE(OH).3          0.0\n",
    "            EDUCATION_TYPE(OH).4          0.0\n",
    "                FAMILY_STATUS(OH).0            1.0\n",
    "                FAMILY_STATUS(OH).1            0.0\n",
    "                FAMILY_STATUS(OH).2            0.0\n",
    "                FAMILY_STATUS(OH).3            0.0\n",
    "                FAMILY_STATUS(OH).4            0.0\n",
    "                    OCCUPATION_TYPE(OH).0          1.0\n",
    "                    OCCUPATION_TYPE(OH).1          0.0\n",
    "                    OCCUPATION_TYPE(OH).2          0.0\n",
    "                    OCCUPATION_TYPE(OH).3          0.0\n",
    "                    OCCUPATION_TYPE(OH).4          0.0\n",
    "                    OCCUPATION_TYPE(OH).5          0.0\n",
    "                    OCCUPATION_TYPE(OH).6          0.0\n",
    "                    OCCUPATION_TYPE(OH).7          0.0\n",
    "                    OCCUPATION_TYPE(OH).8          0.0\n",
    "                    OCCUPATION_TYPE(OH).9          0.0\n",
    "                    OCCUPATION_TYPE(OH).10         0.0\n",
    "                    OCCUPATION_TYPE(OH).11         0.0\n",
    "                    OCCUPATION_TYPE(OH).12         0.0\n",
    "                    OCCUPATION_TYPE(OH).13         0.0\n",
    "                    OCCUPATION_TYPE(OH).14         0.0\n",
    "                    OCCUPATION_TYPE(OH).15         0.0\n",
    "                    OCCUPATION_TYPE(OH).16         0.0\n",
    "                    OCCUPATION_TYPE(OH).17         0.0\n",
    "                    OCCUPATION_TYPE(OH).18         0.0"
   ]
  },
  {
   "cell_type": "code",
   "execution_count": null,
   "id": "db757ad2",
   "metadata": {},
   "outputs": [],
   "source": [
    "def sigmoid(x):\n",
    "    y = 1/(1 + np.exp(-x))\n",
    "    return y"
   ]
  },
  {
   "cell_type": "code",
   "execution_count": null,
   "id": "4f41f831",
   "metadata": {},
   "outputs": [],
   "source": [
    "def activation(y):\n",
    "    \"\"\"\n",
    "    modded sigmoid function\n",
    "    Input\n",
    "    - y: (float) output of the classifier, shape 1X2\n",
    "        [1, 0] => no overdue\n",
    "        [0, 1] => potential overdue\n",
    "    Return\n",
    "    - pred: (int) prediction, scalar\n",
    "        0 => potential credit card\n",
    "        1 => no credit card\n",
    "    - poss: (float) possibility of getting a credit card\n",
    "    \"\"\"\n",
    "    if (y[0,0] >= y[0,1]):\n",
    "        pred = 0; # give prediction\n",
    "        poss = sigmoid(y[0, 0]*2);\n",
    "    else:\n",
    "        pred = 1; # give prediction\n",
    "        poss = 1 - sigmoid(y[0, 1]*2);\n",
    "    return (pred, poss)"
   ]
  },
  {
   "cell_type": "markdown",
   "id": "3d908b2a",
   "metadata": {},
   "source": [
    "### activation Example"
   ]
  },
  {
   "cell_type": "code",
   "execution_count": null,
   "id": "1b5c05f7",
   "metadata": {},
   "outputs": [],
   "source": [
    "P_status = activation(model_status.predict(input_encoded.reshape(1, 52)))[1]\n",
    "P_months = activation(model_months.predict(input_encoded.reshape(1, 52)))[1]\n",
    "P = (P_status + P_months)/2 # average"
   ]
  }
 ],
 "metadata": {
  "kernelspec": {
   "display_name": "Python 3 (ipykernel)",
   "language": "python",
   "name": "python3"
  },
  "language_info": {
   "codemirror_mode": {
    "name": "ipython",
    "version": 3
   },
   "file_extension": ".py",
   "mimetype": "text/x-python",
   "name": "python",
   "nbconvert_exporter": "python",
   "pygments_lexer": "ipython3",
   "version": "3.9.15"
  }
 },
 "nbformat": 4,
 "nbformat_minor": 5
}
