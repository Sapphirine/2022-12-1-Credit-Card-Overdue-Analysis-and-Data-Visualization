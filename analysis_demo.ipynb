{
 "cells": [
  {
   "cell_type": "code",
   "execution_count": 2,
   "id": "a0b10712",
   "metadata": {},
   "outputs": [
    {
     "name": "stdout",
     "output_type": "stream",
     "text": [
      "Collecting pyspark\n",
      "  Downloading pyspark-3.3.1.tar.gz (281.4 MB)\n",
      "\u001b[2K     \u001b[90m━━━━━━━━━━━━━━━━━━━━━━━━━━━━━━━━━━━━━━━\u001b[0m \u001b[32m281.4/281.4 MB\u001b[0m \u001b[31m4.8 MB/s\u001b[0m eta \u001b[36m0:00:00\u001b[0m00:01\u001b[0m00:01\u001b[0m\n",
      "\u001b[?25h  Preparing metadata (setup.py) ... \u001b[?25ldone\n",
      "\u001b[?25hCollecting py4j==0.10.9.5\n",
      "  Using cached py4j-0.10.9.5-py2.py3-none-any.whl (199 kB)\n",
      "Building wheels for collected packages: pyspark\n",
      "  Building wheel for pyspark (setup.py) ... \u001b[?25ldone\n",
      "\u001b[?25h  Created wheel for pyspark: filename=pyspark-3.3.1-py2.py3-none-any.whl size=281845499 sha256=efab3a2efef9479e718cc2875d65e27ba396457347987341a9a82a6100799c3b\n",
      "  Stored in directory: /Users/huanglijie/Library/Caches/pip/wheels/51/c8/18/298a4ced8ebb3ab8a7d26a7198c0cc7035abb906bde94a4c4b\n",
      "Successfully built pyspark\n",
      "Installing collected packages: py4j, pyspark\n",
      "Successfully installed py4j-0.10.9.5 pyspark-3.3.1\n"
     ]
    }
   ],
   "source": [
    "!pip install pyspark\n",
    "from pyspark.sql import SparkSession\n",
    "from pyspark import SparkContext,SparkConf\n",
    "from pyspark.sql import Row\n",
    "from pyspark.sql.types import *\n",
    "from pyspark.sql import functions"
   ]
  },
  {
   "cell_type": "code",
   "execution_count": 26,
   "id": "5895ade9",
   "metadata": {},
   "outputs": [
    {
     "data": {
      "text/plain": [
       "DataFrame[aid: string, overdue_freq: string, overdue_times: string, ID: string, CODE_GENDER: string, FLAG_OWN_CAR: string, FLAG_OWN_REALTY: string, CNT_CHILDREN: string, AMT_INCOME_TOTAL: string, NAME_INCOME_TYPE: string, NAME_EDUCATION_TYPE: string, NAME_FAMILY_STATUS: string, NAME_HOUSING_TYPE: string, DAYS_BIRTH: string, DAYS_EMPLOYED: string, FLAG_MOBIL: string, FLAG_WORK_PHONE: string, FLAG_PHONE: string, FLAG_EMAIL: string, OCCUPATION_TYPE: string, CNT_FAM_MEMBERS: string]"
      ]
     },
     "execution_count": 26,
     "metadata": {},
     "output_type": "execute_result"
    }
   ],
   "source": [
    "# 读取数据\n",
    "\n",
    "spark = SparkSession.builder.config(conf = SparkConf()).getOrCreate()\n",
    "\n",
    "data = spark.read.format(\"csv\").option(\"header\", \"true\").load(\"./input/overdue_details.csv\")\n",
    "data\n"
   ]
  },
  {
   "cell_type": "code",
   "execution_count": 10,
   "id": "8247ff4e",
   "metadata": {},
   "outputs": [],
   "source": [
    "all_list = []\n",
    "total_y = [] # overall number\n",
    "total_y.append(data.filter(data['overdue_times'] == 0).count())\n",
    "total_y.append(data.filter(data['overdue_times'] > 0).count())\n",
    "all_list.append(total_y)"
   ]
  },
  {
   "cell_type": "code",
   "execution_count": 12,
   "id": "ef638f11",
   "metadata": {},
   "outputs": [],
   "source": [
    "from pyecharts.charts import Bar\n",
    "from pyecharts.charts import Pie\n",
    "from pyecharts.charts import Page\n",
    "from pyecharts import options as opts"
   ]
  },
  {
   "cell_type": "code",
   "execution_count": 22,
   "id": "37c48a99",
   "metadata": {},
   "outputs": [
    {
     "data": {
      "text/plain": [
       "'/Users/huanglijie/Documents/Columbia_University/1st_semeter/EECS6893_BIG_DATA_ANALYTICS/group_project/overall_bi_pie.html'"
      ]
     },
     "execution_count": 22,
     "metadata": {},
     "output_type": "execute_result"
    }
   ],
   "source": [
    "total_list = all_list[0]\n",
    "attr = [\"num of people paid in time\", \"num of people overdue\"]\n",
    "pie = (\n",
    "    Pie()\n",
    "        .add(\"Overall Number\", [list(z) for z in zip(attr,total_list)])\n",
    "        .set_global_opts(title_opts=opts.TitleOpts(title=\"Overall Number\"))\n",
    "        .set_series_opts(\n",
    "        tooltip_opts=opts.TooltipOpts(trigger=\"item\", formatter=\"{a} <br/>{b}: {c} ({d}%)\"),\n",
    "        label_opts=opts.LabelOpts(formatter=\"{b}: {c} ({d}%)\")\n",
    "        )\n",
    ")\n",
    "total_pie = pie\n",
    "page = Page()\n",
    "page.add(total_pie)\n",
    "page.render('overall_bi_pie.html')"
   ]
  },
  {
   "cell_type": "code",
   "execution_count": 38,
   "id": "63385f03",
   "metadata": {},
   "outputs": [
    {
     "data": {
      "text/plain": [
       "'/Users/huanglijie/Documents/Columbia_University/1st_semeter/EECS6893_BIG_DATA_ANALYTICS/group_project/overall_pie.html'"
      ]
     },
     "execution_count": 38,
     "metadata": {},
     "output_type": "execute_result"
    }
   ],
   "source": [
    "data = data.withColumn(\"overdue_freq\",data.overdue_freq.astype(\"float\"))\n",
    "total_freq = []\n",
    "total_freq.append(data.filter(data['overdue_freq'] == 0).count())\n",
    "total_freq.append(data.filter(data['overdue_freq'] > 0).filter(data['overdue_freq'] < 0.2).count())\n",
    "total_freq.append(data.filter(data['overdue_freq'] >= 0.2).filter(data['overdue_freq'] < 0.4).count())\n",
    "total_freq.append(data.filter(data['overdue_freq'] >= 0.4).filter(data['overdue_freq'] < 0.6).count())\n",
    "total_freq.append(data.filter(data['overdue_freq'] >= 0.6).filter(data['overdue_freq'] < 0.8).count())\n",
    "total_freq.append(data.filter(data['overdue_freq'] >= 0.8).filter(data['overdue_freq'] < 1).count())\n",
    "total_freq.append(data.filter(data['overdue_freq'] == 1).count())\n",
    "\n",
    "all_list.append(total_freq)\n",
    "\n",
    "total_freq_list = all_list[1]\n",
    "attr = [\"Paid in Time\", \"Overdue Less than 20%\", \"20% ~ 40%\", \"40% ~ 60%\", \"60% ~ 80%\", \"80% ~ 100%\", \"100%\"]\n",
    "pie = (\n",
    "    Pie()\n",
    "        .add(\"Overall Freq\", [list(z) for z in zip(attr,total_freq_list)])\n",
    "        .set_global_opts(title_opts=opts.TitleOpts(title=\"Overall Overdue Frequence\"))\n",
    "        .set_series_opts(\n",
    "        tooltip_opts=opts.TooltipOpts(trigger=\"item\", formatter=\"{a} <br/>{b}: {c} ({d}%)\"),\n",
    "        label_opts=opts.LabelOpts(formatter=\"{b}: {c} ({d}%)\")\n",
    "        )\n",
    ")\n",
    "total_pie = pie\n",
    "page.add(total_pie)\n",
    "page.render('overall_pie.html')"
   ]
  },
  {
   "cell_type": "code",
   "execution_count": null,
   "id": "ae1206a1",
   "metadata": {},
   "outputs": [],
   "source": []
  }
 ],
 "metadata": {
  "kernelspec": {
   "display_name": "Python 3 (ipykernel)",
   "language": "python",
   "name": "python3"
  },
  "language_info": {
   "codemirror_mode": {
    "name": "ipython",
    "version": 3
   },
   "file_extension": ".py",
   "mimetype": "text/x-python",
   "name": "python",
   "nbconvert_exporter": "python",
   "pygments_lexer": "ipython3",
   "version": "3.9.12"
  }
 },
 "nbformat": 4,
 "nbformat_minor": 5
}
